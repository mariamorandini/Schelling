{
 "cells": [
  {
   "cell_type": "markdown",
   "id": "e2bc22b6-13f9-4df3-8af3-ead43788c37a",
   "metadata": {},
   "source": [
    "# Equilibria"
   ]
  },
  {
   "cell_type": "markdown",
   "id": "89f2eb12-af33-46ce-a120-32b9e0a00c79",
   "metadata": {},
   "source": [
    "This notebook has the main purpose to investigate the reaching of the equilibria for differnet initial conditions. \n",
    "The definition of equilibrium for an evolving schelling city, is defined byGauvin et Al. \" _What is meant by equilibrium here may correspond\n",
    "to two different situations: (i) the system does not evolve\n",
    "at all anymore (fixed point); (ii) the systems reaches some\n",
    "stationary state: the fluctuations of the studied parameters\n",
    "remain weak during a large number of time steps_\". \n",
    "We will refer to the (ii) case and evaluate these fluctuations throught the standard deviation of these models. "
   ]
  },
  {
   "cell_type": "code",
   "execution_count": 1,
   "id": "2d010070-8aad-489a-b373-e208ecd93b9b",
   "metadata": {},
   "outputs": [],
   "source": [
    "import random\n",
    "import numpy as np\n",
    "import matplotlib.pyplot as plt\n",
    "from matplotlib.colors import ListedColormap\n",
    "import matplotlib.patches as mpatches\n",
    "import seaborn as sns\n",
    "from mpl_toolkits.axes_grid1 import ImageGrid\n",
    "from scipy.signal import convolve2d\n",
    "import warnings\n",
    "import pickle \n",
    "from multiprocessing import Pool, cpu_count\n",
    "from class_schelling import Schelling, UnionFind, hoshen_kopelman, step\n",
    "from pollo import compute_metrics, parallel_compute_metrics\n",
    "from run_all import compute_metrics as cm\n",
    "from run_all import parallel_compute_metrics as pcm"
   ]
  },
  {
   "cell_type": "markdown",
   "id": "d9f3ed5b-c8ad-4025-b7d6-05d7d14de019",
   "metadata": {},
   "source": [
    "We initialize T x P x C models with different parameters and C = 20 different channel for the same initial parameters. "
   ]
  },
  {
   "cell_type": "code",
   "execution_count": 6,
   "id": "34072e61-09fa-4607-8153-79610bb476f0",
   "metadata": {},
   "outputs": [],
   "source": [
    "T = np.arange(0.2, .9, 0.02)\n",
    "P = np.arange(.02, .2, .04)\n",
    "\n",
    "N = np.arange(36000) # number of time steps\n",
    "C = np.arange(20)   # number of channels \n",
    "\n",
    "# Tensor containing all of our models. Here we create a tensor (T x P X C) \n",
    "# with the same model (p, t) initialized in the same way for C different channels \n",
    "\n",
    "# Then we initialize different tensors to keep track of the model as the model evolves\n",
    "\n",
    "Models = np.empty(( len(T), len(P), len(C)), dtype=object)\n",
    "Models_energy = np.empty((len(T), len(P), len(C), len(N) ))\n",
    "Models_bc_energy = np.empty((len(T), len(P), len(C), len(N) ))\n",
    "Models_satisfaction_ratio = np.empty((len(T), len(P), len(C), len(N) ))\n",
    "Models_density_unwanted = np.empty((len(T), len(P), len(C), len(N) ))\n",
    "Models_segregation_coefficient = np.empty((len(T), len(P), len(C), len(N) ))\n",
    "#initializing the model\n",
    "\n",
    "for i, t in enumerate(T): \n",
    "  for j, p in enumerate(P): \n",
    "    x = Schelling(30, t, p, .5)\n",
    "    for k in C:\n",
    "      Models[i, j, k]  = Schelling(30, t, p, .5, x.city)  # for the same parameters we give the same initial conditions\n"
   ]
  },
  {
   "cell_type": "markdown",
   "id": "27fdd5e6-18a7-443d-a885-ed230643a9e4",
   "metadata": {},
   "source": [
    "We now let  all the model evolve for N = 36000 time steps and store all the significant parameters stepwise.\n",
    "Even if the simulation has been optimized throught multiprocessing, it is still a significant time consuming step. "
   ]
  },
  {
   "cell_type": "code",
   "execution_count": 7,
   "id": "a7412521-24a0-4758-b299-dfe2cbb6800f",
   "metadata": {},
   "outputs": [],
   "source": [
    "Models_energy, Models_bc_energy, Models_density_unwanted, Models_satisfaction_ratio, Models_segregation_coefficient =  parallel_compute_metrics(T, P, C, N, Models, num_processes=4)"
   ]
  },
  {
   "cell_type": "markdown",
   "id": "ce4f59b0-d058-4771-8ea5-26db5d036c3d",
   "metadata": {},
   "source": [
    "Once gained the values, we check that an equilibrium has been reached for all of them \n",
    "How we do it it thourght comparing the standard devidation of the last N = 100 steps for all the parameters."
   ]
  },
  {
   "cell_type": "code",
   "execution_count": 29,
   "id": "acf9a7a0-0685-4036-8105-478fe3a0fdfc",
   "metadata": {},
   "outputs": [],
   "source": [
    "values = {\"energy\": [],\"bc_energy\": [], \"satisfaction_ratio\": [], \"density_unwanted\": [], \"segregation\":[]}\n",
    "for i, t in enumerate(T): \n",
    "  for j, p in enumerate(P): \n",
    "    for k in C:\n",
    "        values[\"energy\"].append(np.std(Models_energy[i, j, k, 35900:]))\n",
    "        values[\"bc_energy\"].append(np.std(Models_bc_energy[i, j, k, 35900:]))\n",
    "        values[\"satisfaction_ratio\"].append(np.std(Models_satisfaction_ratio[i, j, k, 35900:]))\n",
    "        values[ \"density_unwanted\"].append(np.std(Models_density_unwanted[i, j, k, 35900:]))\n",
    "        values[\"segregation\"].append(np.std(Models_segregation_coefficient[i, j, k, 35900:]))\n",
    "          "
   ]
  },
  {
   "cell_type": "code",
   "execution_count": 34,
   "id": "61ab6dcf-914f-4365-9414-db644643d370",
   "metadata": {},
   "outputs": [
    {
     "data": {
      "image/png": "[encoded data removed]",
      "text/plain": [
       "<Figure size 1152x288 with 5 Axes>"
      ]
     },
     "metadata": {
      "needs_background": "light"
     },
     "output_type": "display_data"
    }
   ],
   "source": [
    "fig, axes = plt.subplots(nrows=1, ncols=5, figsize=(16, 4))\n",
    "\n",
    "for i, k in enumerate(values.keys()):\n",
    "    axes[i].hist(values[k])\n",
    "    axes[i].set_title(f'{k}')\n"
   ]
  },
  {
   "cell_type": "markdown",
   "id": "3b231f42-19ea-484e-b6dd-342aacd1b317",
   "metadata": {},
   "source": [
    "We observe that all of those are significanlty close to zero, thus we can safely assume the equilibrium has been reached. "
   ]
  },
  {
   "cell_type": "markdown",
   "id": "880b6cf9-a0e5-46a9-99b3-351af8276ca2",
   "metadata": {
    "tags": []
   },
   "source": [
    "## Storing values obtained \n"
   ]
  },
  {
   "cell_type": "code",
   "execution_count": 52,
   "id": "99b28c84-db38-4bd7-b52c-6b228cebcfed",
   "metadata": {},
   "outputs": [],
   "source": [
    "import pickle "
   ]
  },
  {
   "cell_type": "code",
   "execution_count": 53,
   "id": "ae9dcc3a-2f8d-4624-95a7-bc2b407067db",
   "metadata": {},
   "outputs": [],
   "source": [
    "classes_schelling = {}\n",
    "for i, t in enumerate(T): \n",
    "  for j, p in enumerate(P): \n",
    "    for k in C:\n",
    "        key = \"t\"+str(t)+\"p\"+str(p)+\"c\"+str(k)\n",
    "        classes_schelling[key]= Models[i, j, k]"
   ]
  },
  {
   "cell_type": "code",
   "execution_count": 85,
   "id": "820bd7e5-1593-4c3a-80ca-34732eed2a08",
   "metadata": {},
   "outputs": [],
   "source": [
    "chiavi = classes_schelling.keys()"
   ]
  },
  {
   "cell_type": "code",
   "execution_count": 80,
   "id": "87fd3e80-5086-416e-aec3-2b74c89a08ee",
   "metadata": {},
   "outputs": [],
   "source": [
    "# Save the dictionary of objects to a file using pickle\n",
    "file_path = '/Users/mariamorandini/Desktop/classi_equi.obj'\n",
    "with open(file_path, 'wb') as file:\n",
    "    pickle.dump(classes_schelling, file)"
   ]
  },
  {
   "cell_type": "code",
   "execution_count": 81,
   "id": "340844a5-7a6a-491e-b689-fc2b15207c60",
   "metadata": {},
   "outputs": [],
   "source": [
    "# Load the dictionary of objects from the file\n",
    "with open(file_path, 'rb') as file:\n",
    "    loaded_objects = pickle.load(file)"
   ]
  },
  {
   "cell_type": "code",
   "execution_count": 95,
   "id": "6a54f470-3564-472d-88a7-cd386d96bc44",
   "metadata": {},
   "outputs": [],
   "source": [
    "folder_path = \"/Users/mariamorandini/Desktop/thesis/schelling/risultati/energy\"\n",
    "for i, t in enumerate(T): \n",
    "  for j, p in enumerate(P): \n",
    "    for k in C:\n",
    "        np.save(folder_path+ f'energy_t_{t}_p_{p}_c{k}.npy', Models_energy[i, j, k])\n",
    "\n",
    "folder_path = \"/Users/mariamorandini/Desktop/thesis/schelling/risultati/bc_energy\"\n",
    "for i, t in enumerate(T): \n",
    "  for j, p in enumerate(P): \n",
    "    for k in C:\n",
    "        np.save(folder_path + f'energy_bc_t_{t}_p_{p}_c{k}.npy',  Models_bc_energy[i, j, k])\n",
    "\n",
    "folder_path = \"/Users/mariamorandini/Desktop/thesis/schelling/risultati/satisfaction\"\n",
    "for i, t in enumerate(T): \n",
    "  for j, p in enumerate(P): \n",
    "    for k in C:\n",
    "        np.save(folder_path + f'satisfacttion_t_{t}_p_{p}_c{k}.npy', Models_satisfaction_ratio[i, j, k])\n",
    "\n",
    "folder_path = \"/Users/mariamorandini/Desktop/thesis/schelling/risultati/density_unwanted\"\n",
    "for i, t in enumerate(T): \n",
    "  for j, p in enumerate(P): \n",
    "    for k in C:  \n",
    "        np.save(folder_path + f'unwanted_t_{t}_p_{p}_c{k}.npy', Models_density_unwanted[i, j, k])\n",
    "\n",
    "        \n",
    "folder_path = \"/Users/mariamorandini/Desktop/thesis/schelling/risultati/segregation\"\n",
    "for i, t in enumerate(T): \n",
    "  for j, p in enumerate(P): \n",
    "    for k in C:\n",
    "        np.save(folder_path + f'segregation_t_{t}_p_{p}_c{k}.npy', Models_segregation_coefficient[i, j, k])\n"
   ]
  },
  {
   "cell_type": "markdown",
   "id": "6d35eb1d-b639-41f4-8192-5abaffc63399",
   "metadata": {},
   "source": [
    "## evolution after equilibria \n",
    "\n",
    "To stay as close as possible to the setting of Gauvin et al, we must let evolve our model for 30 000 more steps after the reaching of equilibria. \n",
    "(rk : to ease the code we used a single standardized value for the number of steps)"
   ]
  },
  {
   "cell_type": "code",
   "execution_count": 3,
   "id": "08d03788-b05d-4274-a266-6fd249a75b6c",
   "metadata": {},
   "outputs": [],
   "source": [
    "# reloading datas \n",
    "file_path = '/Users/mariamorandini/Desktop/classi_equi.obj'\n",
    "with open(file_path, 'rb') as file:\n",
    "    loaded_objects = pickle.load(file)"
   ]
  },
  {
   "cell_type": "code",
   "execution_count": 13,
   "id": "a735102c-b8dd-4f38-a8b5-7b6bacd0467c",
   "metadata": {},
   "outputs": [],
   "source": [
    "T = np.arange(0.2, .9, 0.02)\n",
    "P = np.arange(.02, .2, .04)\n",
    "C = np.arange(20)   # number of channels \n",
    "N = np.arange(30000)\n",
    "\n",
    "# Tensor containing all of our models. Here we create a tensor (T x P X C) \n",
    "# with the same model (p, t) initialized in the same way for C different channels \n",
    "\n",
    "# Then we initialize different tensors to keep track of the model as the model evolves\n",
    "\n",
    "Models = np.empty(( len(T), len(P), len(C)), dtype=object)\n",
    "Models_energy = np.empty((len(T), len(P), len(C)))\n",
    "Models_bc_energy = np.empty((len(T), len(P), len(C) ))\n",
    "Models_satisfaction_ratio = np.empty((len(T), len(P), len(C)  ))\n",
    "Models_density_unwanted = np.empty((len(T), len(P), len(C)  ))\n",
    "Models_segregation_coefficient = np.empty((len(T), len(P), len(C)  ))\n",
    "\n",
    "for i, t in enumerate(T): \n",
    "  for j, p in enumerate(P): \n",
    "    x = Schelling(30, t, p, .5)\n",
    "    for k in C:\n",
    "        key = \"t\"+str(t)+\"p\"+str(p)+\"c\"+str(k)\n",
    "        Models[i, j, k]  = loaded_objects[key] # for the same parameters we give the same initial conditions\n",
    "\n",
    "        "
   ]
  },
  {
   "cell_type": "code",
   "execution_count": 14,
   "id": "34ad6ac7-516a-4591-ab09-b0594764a9f5",
   "metadata": {},
   "outputs": [],
   "source": [
    "Models_energy, Models_bc_energy, Models_density_unwanted, Models_satisfaction_ratio, Models_segregation_coefficient =  pcm(T, P, C, N, Models, num_processes=4)"
   ]
  },
  {
   "cell_type": "code",
   "execution_count": 15,
   "id": "c3b69229-6934-4b87-b07c-0fbe0f72b2cf",
   "metadata": {},
   "outputs": [],
   "source": [
    "# saving the results obtained "
   ]
  },
  {
   "cell_type": "code",
   "execution_count": 16,
   "id": "19dd7b76-bc34-452b-b39c-7f06af54f9f4",
   "metadata": {},
   "outputs": [],
   "source": [
    "classes_schelling = {}\n",
    "for i, t in enumerate(T): \n",
    "  for j, p in enumerate(P): \n",
    "    for k in C:\n",
    "        key = \"t\"+str(t)+\"p\"+str(p)+\"c\"+str(k)\n",
    "        classes_schelling[key]= Models[i, j, k]"
   ]
  },
  {
   "cell_type": "code",
   "execution_count": 17,
   "id": "2c1e33f4-ea17-45cc-936c-6eabcba43353",
   "metadata": {},
   "outputs": [],
   "source": [
    "# Save the dictionary of objects to a file using pickle\n",
    "file_path = '/Users/mariamorandini/Desktop/classi_equilibri_finali.obj'\n",
    "with open(file_path, 'wb') as file:\n",
    "    pickle.dump(classes_schelling, file)"
   ]
  },
  {
   "cell_type": "code",
   "execution_count": 18,
   "id": "98c99de8-4d2a-41f8-9889-790149975b08",
   "metadata": {},
   "outputs": [],
   "source": [
    "folder_path = \"/Users/mariamorandini/Desktop/thesis/schelling/risultati_post_eq\"\n",
    "for i, t in enumerate(T): \n",
    "  for j, p in enumerate(P): \n",
    "    for k in C:\n",
    "        np.save(folder_path+ f'energy_t_{t}_p_{p}_c{k}.npy', Models_energy[i, j, k])\n",
    "\n",
    "for i, t in enumerate(T): \n",
    "  for j, p in enumerate(P): \n",
    "    for k in C:\n",
    "        np.save(folder_path + f'energy_bc_t_{t}_p_{p}_c{k}.npy',  Models_bc_energy[i, j, k])\n",
    "\n",
    "for i, t in enumerate(T): \n",
    "  for j, p in enumerate(P): \n",
    "    for k in C:\n",
    "        np.save(folder_path + f'satisfacttion_t_{t}_p_{p}_c{k}.npy', Models_satisfaction_ratio[i, j, k])\n",
    "\n",
    "\n",
    "for i, t in enumerate(T): \n",
    "  for j, p in enumerate(P): \n",
    "    for k in C:  \n",
    "        np.save(folder_path + f'unwanted_t_{t}_p_{p}_c{k}.npy', Models_density_unwanted[i, j, k])\n",
    "\n",
    "for i, t in enumerate(T): \n",
    "  for j, p in enumerate(P): \n",
    "    for k in C:\n",
    "        np.save(folder_path + f'segregation_t_{t}_p_{p}_c{k}.npy', Models_segregation_coefficient[i, j, k])\n"
   ]
  }
 ],
 "metadata": {
  "kernelspec": {
   "display_name": "Python 3 (ipykernel)",
   "language": "python",
   "name": "python3"
  },
  "language_info": {
   "codemirror_mode": {
    "name": "ipython",
    "version": 3
   },
   "file_extension": ".py",
   "mimetype": "text/x-python",
   "name": "python",
   "nbconvert_exporter": "python",
   "pygments_lexer": "ipython3",
   "version": "3.10.4"
  }
 },
 "nbformat": 4,
 "nbformat_minor": 5
}
